{
  "nbformat": 4,
  "nbformat_minor": 0,
  "metadata": {
    "kernelspec": {
      "display_name": "Python 3",
      "language": "python",
      "name": "python3"
    },
    "language_info": {
      "codemirror_mode": {
        "name": "ipython",
        "version": 3
      },
      "file_extension": ".py",
      "mimetype": "text/x-python",
      "name": "python",
      "nbconvert_exporter": "python",
      "pygments_lexer": "ipython3",
      "version": "3.6.9"
    },
    "colab": {
      "name": "ep02_linreg_analytic.ipynb",
      "provenance": [],
      "collapsed_sections": [],
      "toc_visible": true
    }
  },
  "cells": [
    {
      "cell_type": "code",
      "metadata": {
        "colab": {
          "base_uri": "https://localhost:8080/"
        },
        "id": "bc728RmGItBG",
        "outputId": "e0277576-4ed6-43d7-91c0-74cf9ed8bd92"
      },
      "source": [
        "name = \"Miguel Pereira Ostrowski\"  # write YOUR NAME\n",
        "\n",
        "honorPledge = \"I affirm that I have not given or received any unauthorized \" \\\n",
        "              \"help on this assignment, and that this work is my own.\\n\"\n",
        "\n",
        "\n",
        "print(\"\\nName: \", name)\n",
        "print(\"\\nHonor pledge: \", honorPledge)"
      ],
      "execution_count": 343,
      "outputs": [
        {
          "output_type": "stream",
          "text": [
            "\n",
            "Name:  Miguel Pereira Ostrowski\n",
            "\n",
            "Honor pledge:  I affirm that I have not given or received any unauthorized help on this assignment, and that this work is my own.\n",
            "\n"
          ],
          "name": "stdout"
        }
      ]
    },
    {
      "cell_type": "markdown",
      "metadata": {
        "id": "Juv6Bt2DItBi"
      },
      "source": [
        "# MAC0460 / MAC5832 (2021)\n",
        "<hr>\n",
        "\n",
        "# EP2: Linear regression - analytic solution\n",
        "\n",
        "### Objectives:\n",
        "\n",
        "- to implement and test the analytic solution for the linear regression task (see, for instance, <a href=\"http://work.caltech.edu/slides/slides03.pdf\">Slides of Lecture 03</a> and Lecture 03 of *Learning from Data*)\n",
        "- to understand the core idea (*optimization of a loss or cost function*) for parameter adjustment in machine learning\n",
        "<hr>"
      ]
    },
    {
      "cell_type": "markdown",
      "metadata": {
        "id": "f4c2E6EXItBm"
      },
      "source": [
        "# Linear regression\n",
        "\n",
        "Given a dataset $\\{(\\mathbf{x}^{(1)}, y^{(1)}), \\dots ,(\\mathbf{x}^{(N)}, y^{(N)})\\}$ with $\\mathbf{x}^{(i)} \\in \\mathbb{R}^{d}$ and $y^{(i)} \\in \\mathbb{R}$, we would like to approximate the unknown function $f:\\mathbb{R}^{d} \\rightarrow \\mathbb{R}$ (recall that $y^{(i)} =f(\\mathbf{x}^{(i)})$) by means of a linear model $h$:\n",
        "$$\n",
        "h(\\mathbf{x}^{(i)}; \\mathbf{w}, b) = \\mathbf{w}^\\top  \\mathbf{x}^{(i)} + b\n",
        "$$\n",
        "\n",
        "Note that $h(\\mathbf{x}^{(i)}; \\mathbf{w}, b)$ is, in fact, an  [affine transformation](https://en.wikipedia.org/wiki/Affine_transformation) of  $\\mathbf{x}^{(i)}$. As commonly done, we will use the term \"linear\" to refer to an affine transformation.\n",
        "\n",
        "The output of $h$ is a linear transformation of $\\mathbf{x}^{(i)}$. We use the notation $h(\\mathbf{x}^{(i)}; \\mathbf{w}, b)$ to make clear that $h$ is a parametric model, i.e., the transformation $h$ is defined  by the parameters $\\mathbf{w}$ and $b$. We can view vector $\\mathbf{w}$ as a *weight* vector that controls the effect of each *feature* in the prediction.\n",
        "\n",
        "By adding one component with value equal to 1 to the observations $\\mathbf{x}$ (an artificial coordinate), we have:\n",
        "\n",
        "$$\\tilde{\\mathbf{x}} = (1, x_1, \\ldots, x_d) \\in \\mathbb{R}^{1+d}$$\n",
        "\n",
        "and then we can simplify the notation:\n",
        "$$\n",
        "h(\\mathbf{x}^{(i)}; \\mathbf{w}) = \\hat{y}^{(i)} = \\mathbf{w}^\\top  \\tilde{\\mathbf{x}}^{(i)}\n",
        "$$\n",
        "\n",
        "We would like to determine the optimal parameters $\\mathbf{w}$ such that prediction $\\hat{y}^{(i)}$ is as closest as possible to $y^{(i)}$ according to some error metric. Adopting the *mean square error* as such metric we have the following cost function:\n",
        "\n",
        "\\begin{equation}\n",
        "J(\\mathbf{w}) = \\frac{1}{N}\\sum_{i=1}^{N}\\big(\\hat{y}^{(i)} - y^{(i)}\\big)^{2}\n",
        "\\end{equation}\n",
        "\n",
        "Thus, the task of determining a function $h$ that is closest to $f$ is reduced to the task of finding the values $\\mathbf{w}$ that minimize $J(\\mathbf{w})$.\n",
        "\n",
        "**Now we will explore this model, starting with a simple dataset.**\n"
      ]
    },
    {
      "cell_type": "markdown",
      "metadata": {
        "id": "sWJsH7K4ItBq"
      },
      "source": [
        "### Auxiliary functions"
      ]
    },
    {
      "cell_type": "code",
      "metadata": {
        "id": "FetiCGm0ItBr"
      },
      "source": [
        "# some imports\n",
        "import numpy as np\n",
        "import time\n",
        "import matplotlib.pyplot as plt\n",
        "\n",
        "%matplotlib inline"
      ],
      "execution_count": 344,
      "outputs": []
    },
    {
      "cell_type": "code",
      "metadata": {
        "id": "8Am5ufYzItBt"
      },
      "source": [
        "# An auxiliary function\n",
        "def get_housing_prices_data(N, verbose=True):\n",
        "    \"\"\"\n",
        "    Generates artificial linear data,\n",
        "    where x = square meter, y = house price\n",
        "\n",
        "    :param N: data set size\n",
        "    :type N: int\n",
        "    \n",
        "    :param verbose: param to control print\n",
        "    :type verbose: bool\n",
        "    :return: design matrix, regression targets\n",
        "    :rtype: np.array, np.array\n",
        "    \"\"\"\n",
        "    cond = False\n",
        "    while not cond:\n",
        "        x = np.linspace(90, 1200, N)\n",
        "        gamma = np.random.normal(30, 10, x.size)\n",
        "        y = 50 * x + gamma * 400\n",
        "        x = x.astype(\"float32\")\n",
        "        x = x.reshape((x.shape[0], 1))\n",
        "        y = y.astype(\"float32\")\n",
        "        y = y.reshape((y.shape[0], 1))\n",
        "        cond = min(y) > 0\n",
        "        \n",
        "    xmean, xsdt, xmax, xmin = np.mean(x), np.std(x), np.max(x), np.min(x)\n",
        "    ymean, ysdt, ymax, ymin = np.mean(y), np.std(y), np.max(y), np.min(y)\n",
        "    if verbose:\n",
        "        print(\"\\nX shape = {}\".format(x.shape))\n",
        "        print(\"y shape = {}\\n\".format(y.shape))\n",
        "        print(\"X: mean {}, sdt {:.2f}, max {:.2f}, min {:.2f}\".format(xmean,\n",
        "                                                               xsdt,\n",
        "                                                               xmax,\n",
        "                                                               xmin))\n",
        "        print(\"y: mean {:.2f}, sdt {:.2f}, max {:.2f}, min {:.2f}\".format(ymean,\n",
        "                                                                 ysdt,\n",
        "                                                                 ymax,\n",
        "                                                                 ymin))\n",
        "    return x, y"
      ],
      "execution_count": 345,
      "outputs": []
    },
    {
      "cell_type": "code",
      "metadata": {
        "id": "kijHMN7lItBx"
      },
      "source": [
        "# Another auxiliary function\n",
        "def plot_points_regression(x,\n",
        "                           y,\n",
        "                           title,\n",
        "                           xlabel,\n",
        "                           ylabel,\n",
        "                           prediction=None,\n",
        "                           legend=False,\n",
        "                           r_squared=None,\n",
        "                           position=(90, 100)):\n",
        "    \"\"\"\n",
        "    Plots the data points and the prediction,\n",
        "    if there is one.\n",
        "\n",
        "    :param x: design matrix\n",
        "    :type x: np.array\n",
        "    :param y: regression targets\n",
        "    :type y: np.array\n",
        "    :param title: plot's title\n",
        "    :type title: str\n",
        "    :param xlabel: x axis label\n",
        "    :type xlabel: str\n",
        "    :param ylabel: y axis label\n",
        "    :type ylabel: str\n",
        "    :param prediction: model's prediction\n",
        "    :type prediction: np.array\n",
        "    :param legend: param to control print legends\n",
        "    :type legend: bool\n",
        "    :param r_squared: r^2 value\n",
        "    :type r_squared: float\n",
        "    :param position: text position\n",
        "    :type position: tuple\n",
        "    \"\"\"\n",
        "    fig, ax = plt.subplots(1, 1, figsize=(8, 8))\n",
        "    line1, = ax.plot(x, y, 'bo', label='Real data')\n",
        "    if prediction is not None:\n",
        "        line2, = ax.plot(x, prediction, 'r', label='Predicted data')\n",
        "        if legend:\n",
        "            plt.legend(handles=[line1, line2], loc=2)\n",
        "        ax.set_title(title,\n",
        "                 fontsize=20,\n",
        "                 fontweight='bold')\n",
        "    if r_squared is not None:\n",
        "        bbox_props = dict(boxstyle=\"square,pad=0.3\",\n",
        "                          fc=\"white\", ec=\"black\", lw=0.2)\n",
        "        t = ax.text(position[0], position[1], \"$R^2 ={:.4f}$\".format(r_squared),\n",
        "                    size=15, bbox=bbox_props)\n",
        "\n",
        "    ax.set_xlabel(xlabel, fontsize=20)\n",
        "    ax.set_ylabel(ylabel, fontsize=20)\n",
        "    plt.show()\n"
      ],
      "execution_count": 346,
      "outputs": []
    },
    {
      "cell_type": "markdown",
      "metadata": {
        "id": "QFEkqoz5ItB3"
      },
      "source": [
        "### The dataset \n",
        "\n",
        "The first dataset we will use is a toy dataset. We will generate $N=100$ observations with only one *feature* and a real value associated to each of them. We can view these observations as being pairs *(area of a real state in square meters, price of the real state)*. Our task is to construct a model that is able to predict the price of a real state, given its area."
      ]
    },
    {
      "cell_type": "code",
      "metadata": {
        "colab": {
          "base_uri": "https://localhost:8080/"
        },
        "id": "RaCpFE3gItB5",
        "outputId": "3e1c78d4-523d-438a-a2de-83d94ce29cdd"
      },
      "source": [
        "X, y = get_housing_prices_data(N=100)"
      ],
      "execution_count": 347,
      "outputs": [
        {
          "output_type": "stream",
          "text": [
            "\n",
            "X shape = (100, 1)\n",
            "y shape = (100, 1)\n",
            "\n",
            "X: mean 645.0, sdt 323.65, max 1200.00, min 90.00\n",
            "y: mean 44362.00, sdt 17386.97, max 77633.56, min 13312.75\n"
          ],
          "name": "stdout"
        }
      ]
    },
    {
      "cell_type": "markdown",
      "metadata": {
        "id": "0GMGDEDbItB6"
      },
      "source": [
        "### Ploting the data"
      ]
    },
    {
      "cell_type": "code",
      "metadata": {
        "colab": {
          "base_uri": "https://localhost:8080/",
          "height": 506
        },
        "id": "0UWQFVvfItB7",
        "outputId": "66ab472e-f654-4fed-f7c7-17b9dae01ae3"
      },
      "source": [
        "plot_points_regression(X,\n",
        "                       y,\n",
        "                       title='Real estate prices prediction',\n",
        "                       xlabel=\"m\\u00b2\",\n",
        "                       ylabel='$')"
      ],
      "execution_count": 348,
      "outputs": [
        {
          "output_type": "display_data",
          "data": {
            "image/png": "[encoded data removed]",
            "text/plain": [
              "<Figure size 576x576 with 1 Axes>"
            ]
          },
          "metadata": {
            "tags": [],
            "needs_background": "light"
          }
        }
      ]
    },
    {
      "cell_type": "markdown",
      "metadata": {
        "id": "7XMp5BWYItB8"
      },
      "source": [
        "### The solution\n",
        "\n",
        "Given $f:\\mathbb{R}^{N\\times M} \\rightarrow \\mathbb{R}$ and $\\mathbf{A} \\in \\mathbb{R}^{N\\times M}$, we define the gradient of $f$ with respect to $\\mathbf{A}$ as:\n",
        "\n",
        "\\begin{equation*}\n",
        "\\nabla_{\\mathbf{A}}f = \\frac{\\partial f}{\\partial \\mathbf{A}} =  \\begin{bmatrix}\n",
        "\\frac{\\partial f}{\\partial \\mathbf{A}_{1,1}} & \\dots & \\frac{\\partial f}{\\partial \\mathbf{A}_{1,m}} \\\\\n",
        "\\vdots &  \\ddots & \\vdots \\\\\n",
        "\\frac{\\partial f}{\\partial \\mathbf{A}_{n,1}} &  \\dots & \\frac{\\partial f}{\\partial \\mathbf{A}_{n,m}}\n",
        "\\end{bmatrix}\n",
        "\\end{equation*}\n",
        "\n",
        "Let $\\mathbf{X} \\in \\mathbb{R}^{N\\times d}$ be a matrix (sometimes also called the *design matrix*) whose rows are the observations of the dataset and let $\\mathbf{y} \\in \\mathbb{R}^{N}$ be the vector consisting of all values $y^{(i)}$ (i.e., $\\mathbf{X}^{(i,:)} = \\mathbf{x}^{(i)}$ and $\\mathbf{y}^{(i)} = y^{(i)}$). It can be verified that: \n",
        "\n",
        "\\begin{equation}\n",
        "J(\\mathbf{w}) = \\frac{1}{N}(\\mathbf{X}\\mathbf{w} - \\mathbf{y})^{T}(\\mathbf{X}\\mathbf{w} - \\mathbf{y})\n",
        "\\end{equation}\n",
        "\n",
        "Using basic matrix derivative concepts we can compute the gradient of $J(\\mathbf{w})$ with respect to $\\mathbf{w}$:\n",
        "\n",
        "\\begin{equation}\n",
        "\\nabla_{\\mathbf{w}}J(\\mathbf{w}) = \\frac{2}{N} (\\mathbf{X}^{T}\\mathbf{X}\\mathbf{w} -\\mathbf{X}^{T}\\mathbf{y})   \n",
        "\\end{equation}\n",
        "\n",
        "Thus, when $\\nabla_{\\mathbf{w}}J(\\mathbf{w}) = 0$ we have \n",
        "\n",
        "\\begin{equation}\n",
        "\\mathbf{X}^{T}\\mathbf{X}\\mathbf{w} = \\mathbf{X}^{T}\\mathbf{y}\n",
        "\\end{equation}\n",
        "\n",
        "Hence,\n",
        "\n",
        "\\begin{equation}\n",
        "\\mathbf{w} = (\\mathbf{X}^{T}\\mathbf{X})^{-1}\\mathbf{X}^{T}\\mathbf{y}\n",
        "\\end{equation}\n",
        "\n",
        "Note that this solution has a high computational cost. As the number of variables (*features*) increases, the cost for matrix inversion becomes prohibitive. See  [this text](https://sgfin.github.io/files/notes/CS229_Lecture_Notes.pdf) for more details."
      ]
    },
    {
      "cell_type": "markdown",
      "metadata": {
        "id": "w_qKghALItB_"
      },
      "source": [
        "# <mark>Exercise 1</mark>\n",
        "Using only **NumPy** (a quick introduction to this library can be found  [here](http://cs231n.github.io/python-numpy-tutorial/)), complete the two functions below. Recall that $\\mathbf{X} \\in \\mathbb{R}^{N\\times d}$; thus you will need to add a component of value 1 to each of  the observations in $\\mathbf{X}$ before performing the computation described above.\n",
        "\n",
        "NOTE: Although the dataset above has data of dimension $d=1$, your code must be generic (it should work for $d\\geq1$)"
      ]
    },
    {
      "cell_type": "markdown",
      "metadata": {
        "id": "Ve2IpM8ZItCA"
      },
      "source": [
        "## <mark>1.1. Weight computation function</mark>"
      ]
    },
    {
      "cell_type": "code",
      "metadata": {
        "id": "W6IO_N12ItCC"
      },
      "source": [
        "def normal_equation_weights(X, y):\n",
        "    \"\"\"\n",
        "    Calculates the weights of a linear function using the normal equation method.\n",
        "    You should add into X a new column with 1s.\n",
        "\n",
        "    :param X: design matrix\n",
        "    :type X: np.ndarray(shape=(N, d))\n",
        "    :param y: regression targets\n",
        "    :type y: np.ndarray(shape=(N, 1))\n",
        "    :return: weight vector\n",
        "    :rtype: np.ndarray(shape=(d+1, 1))\n",
        "    \"\"\"\n",
        "    \n",
        "    # START OF YOUR CODE:\n",
        "\n",
        "    X = np.c_[np.ones((X.shape[0],1)), X]\n",
        "\n",
        "    # Ao inves de calcular a inversa resolve o sistema Aw = y, onde A = X*X^t e y = X^t\n",
        "    #w = np.linalg.solve(X.transpose() @ X, X.transpose() @ y)\n",
        "    \n",
        "    w = np.linalg.inv(X.transpose() @ X) @ X.transpose() @ y\n",
        "\n",
        "\n",
        "    return w\n",
        "\n",
        "    \n",
        "    #raise NotImplementedError(\"Function normal_equation_weights() is not implemented\")\n",
        "    # END OF YOUR CODE\n",
        "    "
      ],
      "execution_count": 349,
      "outputs": []
    },
    {
      "cell_type": "code",
      "metadata": {
        "id": "cQtEzJHQItCE",
        "colab": {
          "base_uri": "https://localhost:8080/"
        },
        "outputId": "35a92d95-3032-414e-a02e-ab48a5936b33"
      },
      "source": [
        "# test of function normal_equation_weights()\n",
        "\n",
        "w = 0  # this is not necessary\n",
        "w = normal_equation_weights(X, y)\n",
        "print(\"Estimated w =\\n\", w)"
      ],
      "execution_count": 350,
      "outputs": [
        {
          "output_type": "stream",
          "text": [
            "Estimated w =\n",
            " [[10645.99928586]\n",
            " [   52.27287903]]\n"
          ],
          "name": "stdout"
        }
      ]
    },
    {
      "cell_type": "markdown",
      "metadata": {
        "id": "8G7Qw39fItCG"
      },
      "source": [
        "## <mark>1.2. Prediction function</mark>"
      ]
    },
    {
      "cell_type": "code",
      "metadata": {
        "id": "KvTZ0_-EItCG"
      },
      "source": [
        "def normal_equation_prediction(X, w):\n",
        "    \"\"\"\n",
        "    Calculates the prediction over a set of observations X using the linear function\n",
        "    characterized by the weight vector w.\n",
        "    You should add into X a new column with 1s.\n",
        "\n",
        "    :param X: design matrix\n",
        "    :type X: np.ndarray(shape=(N, d))\n",
        "    :param w: weight vector\n",
        "    :type w: np.ndarray(shape=(d+1, 1))\n",
        "    :param y: regression prediction\n",
        "    :type y: np.ndarray(shape=(N, 1))\n",
        "    \"\"\"\n",
        "    \n",
        "    # START OF YOUR CODE:\n",
        "\n",
        "    X = np.c_[np.ones((X.shape[0],1)), X]\n",
        "    \n",
        "    y = X @ w\n",
        "\n",
        "    # ao inves de calcular a matriz inversa resolve o sistema linear Ay = x, onde A = X^t e x = A^t * A * w\n",
        "    #y = np.linalg.solve(np.linalg.inv(X.transpose() @ X) * X.transpose(),  w)\n",
        "    \n",
        "    return y\n",
        "    # raise NotImplementedError(\"Function normal_equation_prediction() is not implemented\")\n",
        "    # END OF YOUR CODE\n"
      ],
      "execution_count": 351,
      "outputs": []
    },
    {
      "cell_type": "markdown",
      "metadata": {
        "id": "SSUQEfVmItCI"
      },
      "source": [
        "## <mark>1.3. Coefficient of determination</mark>\n",
        "We can use the [$R^2$](https://pt.wikipedia.org/wiki/R%C2%B2) metric (Coefficient of determination) to evaluate how well the linear model fits the data.\n",
        "\n",
        "**Which $𝑅^2$ value would you expect to observe ?**"
      ]
    },
    {
      "cell_type": "code",
      "metadata": {
        "id": "Myu8jSHXItCJ",
        "colab": {
          "base_uri": "https://localhost:8080/",
          "height": 551
        },
        "outputId": "ba2f6884-0007-4bb6-d09d-48d503bf9ee4"
      },
      "source": [
        "from sklearn.metrics import r2_score\n",
        "\n",
        "# test of function normal_equation_prediction()\n",
        "prediction = normal_equation_prediction(X, w)\n",
        "\n",
        "# compute the R2 score using the r2_score function from sklearn\n",
        "# Replace 0 with an appropriate call of the function\n",
        "\n",
        "# START OF YOUR CODE:\n",
        "r_2 = r2_score(y, prediction)\n",
        "# END OF YOUR CODE\n",
        "\n",
        "plot_points_regression(X,\n",
        "                       y,\n",
        "                       title='Real estate prices prediction',\n",
        "                       xlabel=\"m\\u00b2\",\n",
        "                       ylabel='$',\n",
        "                       prediction=prediction,\n",
        "                       legend=True,\n",
        "                       r_squared=r_2)"
      ],
      "execution_count": 352,
      "outputs": [
        {
          "output_type": "display_data",
          "data": {
            "image/png": "[encoded data removed]",
            "text/plain": [
              "<Figure size 576x576 with 1 Axes>"
            ]
          },
          "metadata": {
            "tags": [],
            "needs_background": "light"
          }
        }
      ]
    },
    {
      "cell_type": "markdown",
      "metadata": {
        "id": "LnOAgicWItCK"
      },
      "source": [
        "## Additional tests\n",
        "\n",
        "Let us compute a prediction for $x=650$\n"
      ]
    },
    {
      "cell_type": "code",
      "metadata": {
        "id": "0MLgDT-1ItCL",
        "colab": {
          "base_uri": "https://localhost:8080/"
        },
        "outputId": "d05b32d0-74b6-4d6b-9567-066321ed7d2a"
      },
      "source": [
        "# Let us use the prediction function\n",
        "x = np.asarray([650]).reshape(1,1)\n",
        "prediction = normal_equation_prediction(x, w)\n",
        "print(\"Area = %.2f  Predicted price = %.4f\" %(x[0], prediction))"
      ],
      "execution_count": 353,
      "outputs": [
        {
          "output_type": "stream",
          "text": [
            "Area = 650.00  Predicted price = 44623.3707\n"
          ],
          "name": "stdout"
        }
      ]
    },
    {
      "cell_type": "markdown",
      "metadata": {
        "id": "StPiP4JNItCM"
      },
      "source": [
        "## <mark>1.4. Processing time</mark>\n",
        "\n",
        "Experiment with different nummber of samples $N$ and observe how processing time varies.\n",
        "\n",
        "Be careful not to use a too large value; it may make jupyter freeze ..."
      ]
    },
    {
      "cell_type": "code",
      "metadata": {
        "id": "Vns9R8vfItCN",
        "colab": {
          "base_uri": "https://localhost:8080/"
        },
        "outputId": "a580b461-ae43-4785-e969-1dd09f03bb3b"
      },
      "source": [
        "# Add other values for N\n",
        "# START OF YOUR CODE:\n",
        "N = [100] \n",
        "# END OF YOUR CODE\n",
        "\n",
        "for i in N:\n",
        "    X, y = get_housing_prices_data(N=i)\n",
        "    init = time.time()\n",
        "    w = normal_equation_weights(X, y)\n",
        "    prediction = normal_equation_prediction(X,w)\n",
        "    init = time.time() - init\n",
        "    \n",
        "    print(\"\\nExecution time = {:.8f}(s)\\n\".format(init))"
      ],
      "execution_count": 354,
      "outputs": [
        {
          "output_type": "stream",
          "text": [
            "\n",
            "X shape = (100, 1)\n",
            "y shape = (100, 1)\n",
            "\n",
            "X: mean 645.0, sdt 323.65, max 1200.00, min 90.00\n",
            "y: mean 44229.46, sdt 17318.86, max 78588.77, min 11250.19\n",
            "\n",
            "Execution time = 0.00036931(s)\n",
            "\n"
          ],
          "name": "stdout"
        }
      ]
    },
    {
      "cell_type": "markdown",
      "metadata": {
        "id": "x6jWp_ZeItCO"
      },
      "source": [
        "# <mark>Exercise 2</mark>\n",
        "\n",
        "Let us test the code with $𝑑>1$. \n",
        "We will use the data we have collected in our first class. The [file](https://edisciplinas.usp.br/pluginfile.php/5982803/course/section/6115454/QT1data.csv) can be found on e-disciplinas. \n",
        "\n",
        "Let us try to predict the weight based on one or more features."
      ]
    },
    {
      "cell_type": "code",
      "metadata": {
        "id": "yMcViQePItCP",
        "colab": {
          "base_uri": "https://localhost:8080/",
          "height": 204
        },
        "outputId": "b18b74b3-0d16-4f73-a158-70cb2ee94d66"
      },
      "source": [
        "import pandas as pd\n",
        "\n",
        "# load the dataset\n",
        "df = pd.read_csv('/content/drive/MyDrive/ime-usp/7º semestre/machine learning/QT1data.csv')\n",
        "df.head()"
      ],
      "execution_count": 355,
      "outputs": [
        {
          "output_type": "execute_result",
          "data": {
            "text/html": [
              "<div>\n",
              "<style scoped>\n",
              "    .dataframe tbody tr th:only-of-type {\n",
              "        vertical-align: middle;\n",
              "    }\n",
              "\n",
              "    .dataframe tbody tr th {\n",
              "        vertical-align: top;\n",
              "    }\n",
              "\n",
              "    .dataframe thead th {\n",
              "        text-align: right;\n",
              "    }\n",
              "</style>\n",
              "<table border=\"1\" class=\"dataframe\">\n",
              "  <thead>\n",
              "    <tr style=\"text-align: right;\">\n",
              "      <th></th>\n",
              "      <th>Sex</th>\n",
              "      <th>Age</th>\n",
              "      <th>Height</th>\n",
              "      <th>Weight</th>\n",
              "      <th>Shoe number</th>\n",
              "      <th>Trouser number</th>\n",
              "    </tr>\n",
              "  </thead>\n",
              "  <tbody>\n",
              "    <tr>\n",
              "      <th>0</th>\n",
              "      <td>Female</td>\n",
              "      <td>53</td>\n",
              "      <td>154</td>\n",
              "      <td>59</td>\n",
              "      <td>36</td>\n",
              "      <td>40</td>\n",
              "    </tr>\n",
              "    <tr>\n",
              "      <th>1</th>\n",
              "      <td>Male</td>\n",
              "      <td>23</td>\n",
              "      <td>170</td>\n",
              "      <td>56</td>\n",
              "      <td>40</td>\n",
              "      <td>38</td>\n",
              "    </tr>\n",
              "    <tr>\n",
              "      <th>2</th>\n",
              "      <td>Female</td>\n",
              "      <td>23</td>\n",
              "      <td>167</td>\n",
              "      <td>63</td>\n",
              "      <td>37</td>\n",
              "      <td>40</td>\n",
              "    </tr>\n",
              "    <tr>\n",
              "      <th>3</th>\n",
              "      <td>Male</td>\n",
              "      <td>21</td>\n",
              "      <td>178</td>\n",
              "      <td>78</td>\n",
              "      <td>40</td>\n",
              "      <td>40</td>\n",
              "    </tr>\n",
              "    <tr>\n",
              "      <th>4</th>\n",
              "      <td>Female</td>\n",
              "      <td>25</td>\n",
              "      <td>153</td>\n",
              "      <td>58</td>\n",
              "      <td>36</td>\n",
              "      <td>38</td>\n",
              "    </tr>\n",
              "  </tbody>\n",
              "</table>\n",
              "</div>"
            ],
            "text/plain": [
              "      Sex  Age  Height  Weight  Shoe number Trouser number\n",
              "0  Female   53     154      59           36             40\n",
              "1    Male   23     170      56           40             38\n",
              "2  Female   23     167      63           37             40\n",
              "3    Male   21     178      78           40             40\n",
              "4  Female   25     153      58           36             38"
            ]
          },
          "metadata": {
            "tags": []
          },
          "execution_count": 355
        }
      ]
    },
    {
      "cell_type": "code",
      "metadata": {
        "colab": {
          "base_uri": "https://localhost:8080/"
        },
        "id": "k8pnDvMPzQ9S",
        "outputId": "1684d541-66c8-4647-91ed-741d1c920454"
      },
      "source": [
        "from google.colab import drive\n",
        "drive.mount('/content/drive')"
      ],
      "execution_count": 356,
      "outputs": [
        {
          "output_type": "stream",
          "text": [
            "Drive already mounted at /content/drive; to attempt to forcibly remount, call drive.mount(\"/content/drive\", force_remount=True).\n"
          ],
          "name": "stdout"
        }
      ]
    },
    {
      "cell_type": "code",
      "metadata": {
        "id": "8zoj97ZDItCQ",
        "colab": {
          "base_uri": "https://localhost:8080/",
          "height": 297
        },
        "outputId": "44478fef-1947-44aa-fd92-309e74ef375a"
      },
      "source": [
        "df.describe()"
      ],
      "execution_count": 357,
      "outputs": [
        {
          "output_type": "execute_result",
          "data": {
            "text/html": [
              "<div>\n",
              "<style scoped>\n",
              "    .dataframe tbody tr th:only-of-type {\n",
              "        vertical-align: middle;\n",
              "    }\n",
              "\n",
              "    .dataframe tbody tr th {\n",
              "        vertical-align: top;\n",
              "    }\n",
              "\n",
              "    .dataframe thead th {\n",
              "        text-align: right;\n",
              "    }\n",
              "</style>\n",
              "<table border=\"1\" class=\"dataframe\">\n",
              "  <thead>\n",
              "    <tr style=\"text-align: right;\">\n",
              "      <th></th>\n",
              "      <th>Age</th>\n",
              "      <th>Height</th>\n",
              "      <th>Weight</th>\n",
              "      <th>Shoe number</th>\n",
              "    </tr>\n",
              "  </thead>\n",
              "  <tbody>\n",
              "    <tr>\n",
              "      <th>count</th>\n",
              "      <td>130.000000</td>\n",
              "      <td>130.000000</td>\n",
              "      <td>130.000000</td>\n",
              "      <td>130.000000</td>\n",
              "    </tr>\n",
              "    <tr>\n",
              "      <th>mean</th>\n",
              "      <td>28.238462</td>\n",
              "      <td>170.684615</td>\n",
              "      <td>70.238462</td>\n",
              "      <td>39.507692</td>\n",
              "    </tr>\n",
              "    <tr>\n",
              "      <th>std</th>\n",
              "      <td>12.387042</td>\n",
              "      <td>11.568491</td>\n",
              "      <td>15.534809</td>\n",
              "      <td>2.973386</td>\n",
              "    </tr>\n",
              "    <tr>\n",
              "      <th>min</th>\n",
              "      <td>3.000000</td>\n",
              "      <td>100.000000</td>\n",
              "      <td>15.000000</td>\n",
              "      <td>24.000000</td>\n",
              "    </tr>\n",
              "    <tr>\n",
              "      <th>25%</th>\n",
              "      <td>21.000000</td>\n",
              "      <td>164.250000</td>\n",
              "      <td>60.000000</td>\n",
              "      <td>38.000000</td>\n",
              "    </tr>\n",
              "    <tr>\n",
              "      <th>50%</th>\n",
              "      <td>23.000000</td>\n",
              "      <td>172.000000</td>\n",
              "      <td>69.500000</td>\n",
              "      <td>40.000000</td>\n",
              "    </tr>\n",
              "    <tr>\n",
              "      <th>75%</th>\n",
              "      <td>29.000000</td>\n",
              "      <td>178.000000</td>\n",
              "      <td>80.000000</td>\n",
              "      <td>41.000000</td>\n",
              "    </tr>\n",
              "    <tr>\n",
              "      <th>max</th>\n",
              "      <td>62.000000</td>\n",
              "      <td>194.000000</td>\n",
              "      <td>130.000000</td>\n",
              "      <td>46.000000</td>\n",
              "    </tr>\n",
              "  </tbody>\n",
              "</table>\n",
              "</div>"
            ],
            "text/plain": [
              "              Age      Height      Weight  Shoe number\n",
              "count  130.000000  130.000000  130.000000   130.000000\n",
              "mean    28.238462  170.684615   70.238462    39.507692\n",
              "std     12.387042   11.568491   15.534809     2.973386\n",
              "min      3.000000  100.000000   15.000000    24.000000\n",
              "25%     21.000000  164.250000   60.000000    38.000000\n",
              "50%     23.000000  172.000000   69.500000    40.000000\n",
              "75%     29.000000  178.000000   80.000000    41.000000\n",
              "max     62.000000  194.000000  130.000000    46.000000"
            ]
          },
          "metadata": {
            "tags": []
          },
          "execution_count": 357
        }
      ]
    },
    {
      "cell_type": "code",
      "metadata": {
        "id": "ZYFC1d3qItCR",
        "colab": {
          "base_uri": "https://localhost:8080/"
        },
        "outputId": "ba7490a5-c82d-427b-9533-8ea0ce3a1351"
      },
      "source": [
        "# Our target variable is the weight\n",
        "y = df.pop('Weight').values\n",
        "y"
      ],
      "execution_count": 358,
      "outputs": [
        {
          "output_type": "execute_result",
          "data": {
            "text/plain": [
              "array([ 59,  56,  63,  78,  58,  89,  68,  83,  70,  56,  65,  66,  78,\n",
              "        75,  47,  68,  65,  99,  80,  62,  60,  84,  91,  60,  15,  85,\n",
              "        56,  62,  69,  78,  60,  48,  66,  85, 101,  74,  52,  52,  80,\n",
              "        72,  75,  78,  61,  74,  70,  90,  66,  79,  80,  65,  90,  69,\n",
              "        58,  63,  62,  73,  55,  65,  62,  75,  48,  59,  74,  80,  51,\n",
              "        90,  58, 117,  77,  75,  56,  50,  67,  93,  70,  76,  85,  50,\n",
              "        86,  96,  63,  56,  90,  95, 130,  70,  83,  70,  64,  57,  54,\n",
              "        69,  53,  28,  62,  68,  73,  54,  75,  85,  62,  69,  55,  82,\n",
              "        84,  52,  64,  73,  86,  77,  64,  65,  55,  50,  98,  77,  51,\n",
              "        66,  83,  61,  80,  81,  76,  78,  70,  75,  72,  80,  90,  53])"
            ]
          },
          "metadata": {
            "tags": []
          },
          "execution_count": 358
        }
      ]
    },
    {
      "cell_type": "markdown",
      "metadata": {
        "id": "7y8lqPFgItCT"
      },
      "source": [
        "## <mark>2.1. One feature ($d=1$)</mark>\n",
        "\n",
        "We will use 'Height' as the input feature and predict the weight"
      ]
    },
    {
      "cell_type": "code",
      "metadata": {
        "id": "w0-pArE_ItCU",
        "colab": {
          "base_uri": "https://localhost:8080/"
        },
        "outputId": "b1ac303d-a548-4b71-8ac0-ebded5a2c9b1"
      },
      "source": [
        "feature_cols = ['Height']\n",
        "X = df.loc[:, feature_cols]\n",
        "X.shape"
      ],
      "execution_count": 359,
      "outputs": [
        {
          "output_type": "execute_result",
          "data": {
            "text/plain": [
              "(130, 1)"
            ]
          },
          "metadata": {
            "tags": []
          },
          "execution_count": 359
        }
      ]
    },
    {
      "cell_type": "markdown",
      "metadata": {
        "id": "HMqVTXpPItCV"
      },
      "source": [
        "Write the code for computing the following\n",
        "- compute the regression weights using $\\mathbf{X}$ and $\\mathbf{y}$\n",
        "- compute the prediction\n",
        "- compute the $R^2$ value\n",
        "- plot the regression graph (use appropriate values for the parameters of function <tt>plot_points_regression()</tt>)"
      ]
    },
    {
      "cell_type": "code",
      "metadata": {
        "id": "fLxp4rTsItCW",
        "colab": {
          "base_uri": "https://localhost:8080/",
          "height": 527
        },
        "outputId": "4dc2ba2f-2839-43de-e7b2-172816ef1fa5"
      },
      "source": [
        "# START OF YOUR CODE:\n",
        "w = normal_equation_weights(X, y)\n",
        "\n",
        "predicao = normal_equation_prediction(X, w)\n",
        "\n",
        "r_2 = r2_score(y, predicao)\n",
        "\n",
        "plot_points_regression(X,\n",
        "                       y,\n",
        "                       title='Real estate prices prediction',\n",
        "                       xlabel=\"Height\",\n",
        "                       ylabel='Weight',\n",
        "                       prediction=predicao,\n",
        "                       legend=True,\n",
        "                       r_squared=r_2)\n",
        "# END OF YOUR CODE\n"
      ],
      "execution_count": 360,
      "outputs": [
        {
          "output_type": "display_data",
          "data": {
            "image/png": "[encoded data removed]",
            "text/plain": [
              "<Figure size 576x576 with 1 Axes>"
            ]
          },
          "metadata": {
            "tags": [],
            "needs_background": "light"
          }
        }
      ]
    },
    {
      "cell_type": "markdown",
      "metadata": {
        "id": "Ap8JjQ9FItCX"
      },
      "source": [
        "## <mark>2.2 - Two input features ($d=2$)</mark>\n",
        "\n",
        "Now repeat the exercise with using as input the features 'Height' and 'Shoe number'\n",
        "\n",
        "- compute the regression weights using $\\mathbf{X}$ and $\\mathbf{y}$\n",
        "- compute the prediction\n",
        "- compute and print the $R^2$ value\n",
        "\n",
        "Note that our plotting function can not be used. There is no need to do plotting here."
      ]
    },
    {
      "cell_type": "code",
      "metadata": {
        "id": "15DDhLk9ItCY",
        "colab": {
          "base_uri": "https://localhost:8080/"
        },
        "outputId": "01600934-1f73-45bf-890a-aed4851b3f15"
      },
      "source": [
        "# START OF YOUR CODE:\n",
        "\n",
        "## pega os dados\n",
        "shoe = df.loc[:, 'Shoe number']\n",
        "\n",
        "## adiciona os dados obtidos em X, aumentando sua dimensão d para 2\n",
        "X = np.c_[X, shoe]\n",
        "\n",
        "w = normal_equation_weights(X, y)\n",
        "\n",
        "predicao = normal_equation_prediction(X, w)\n",
        "\n",
        "r_2 = r2_score(y, predicao)\n",
        "\n",
        "print(\"w estimado: \", w)\n",
        "#print(predicao)\n",
        "print(\"r_2 estimado: \", r_2)\n",
        "\n",
        "# END OF YOUR CODE\n"
      ],
      "execution_count": 361,
      "outputs": [
        {
          "output_type": "stream",
          "text": [
            "w estimado:  [-80.50372289   0.43049104   1.95566943]\n",
            "r_2 estimado:  0.45381183096658595\n"
          ],
          "name": "stdout"
        }
      ]
    },
    {
      "cell_type": "markdown",
      "metadata": {
        "id": "E0fVEEJkItCY"
      },
      "source": [
        "## 2.3 - <mark>Three input features ($d=3$)</mark>\n",
        "\n",
        "Now try with three features. There is no need to do plotting here.\n",
        "- compute the regression weights using $\\mathbf{X}$ and $\\mathbf{y}$\n",
        "- compute the prediction\n",
        "- compute and print the $R^2$ value"
      ]
    },
    {
      "cell_type": "code",
      "metadata": {
        "id": "eSZDV8pOItCZ",
        "colab": {
          "base_uri": "https://localhost:8080/"
        },
        "outputId": "d6a70bb0-d1c8-4e25-d7a4-74ea9ee51dea"
      },
      "source": [
        "# START OF YOUR CODE:\n",
        "## pega os dados\n",
        "trouser = df.loc[:, 'Age']\n",
        "\n",
        "## adiciona os dados obtidos em X, aumentando sua dimensão d para 2\n",
        "X = np.c_[X, trouser]\n",
        "\n",
        "w = normal_equation_weights(X, y)\n",
        "\n",
        "predicao = normal_equation_prediction(X, w)\n",
        "\n",
        "r_2 = r2_score(y, predicao)\n",
        "\n",
        "print(\"w estimado: \", w)\n",
        "#print(predicao)\n",
        "print(\"r_2 estimado: \", r_2)\n",
        "\n",
        "# END OF YOUR CODE\n"
      ],
      "execution_count": 362,
      "outputs": [
        {
          "output_type": "stream",
          "text": [
            "w estimado:  [-87.86115226   0.41007958   2.09107234   0.19448284]\n",
            "r_2 estimado:  0.4776499498669614\n"
          ],
          "name": "stdout"
        }
      ]
    },
    {
      "cell_type": "markdown",
      "metadata": {
        "id": "VM9lP_H9ItCa"
      },
      "source": [
        "## <mark>2.4 - Your comments</mark>\n",
        "\n",
        "Did you observe anything interesting with varying values of $d$ ? Comment about it.\n",
        "\n",
        "YOUR COMMENT BELOW:\n",
        "\n",
        "===> Para os dados utilizados, com forme o d cresce houve um pequeno aumento do residual, aumentando o valor do r_2.\n",
        "\n",
        "\n"
      ]
    }
  ]
}