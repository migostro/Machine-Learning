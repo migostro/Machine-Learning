{
  "nbformat": 4,
  "nbformat_minor": 0,
  "metadata": {
    "kernelspec": {
      "display_name": "Python 3",
      "language": "python",
      "name": "python3"
    },
    "language_info": {
      "codemirror_mode": {
        "name": "ipython",
        "version": 3
      },
      "file_extension": ".py",
      "mimetype": "text/x-python",
      "name": "python",
      "nbconvert_exporter": "python",
      "pygments_lexer": "ipython3",
      "version": "3.6.9"
    },
    "colab": {
      "name": "ep01_perceptron.ipynb",
      "provenance": [],
      "collapsed_sections": []
    }
  },
  "cells": [
    {
      "cell_type": "code",
      "metadata": {
        "id": "1OQjYOHxTGsJ",
        "colab": {
          "base_uri": "https://localhost:8080/"
        },
        "outputId": "5044a687-d477-42c1-8e45-76c315fb3ee7"
      },
      "source": [
        "name = \"Miguel Pereira Ostrowski\"  # write YOUR NAME\n",
        "\n",
        "honorPledge = \"I affirm that I have not given or received any unauthorized help on this assignment, \\\n",
        "               and that this work is my own.\\n\"\n",
        "\n",
        "\n",
        "print(\"\\nName: \", name)\n",
        "print(\"\\nHonor pledge: \", honorPledge)"
      ],
      "execution_count": 2,
      "outputs": [
        {
          "output_type": "stream",
          "text": [
            "\n",
            "Name:  Miguel Pereira Ostrowski\n",
            "\n",
            "Honor pledge:  I affirm that I have not given or received any unauthorized help on this assignment,                and that this work is my own.\n",
            "\n"
          ],
          "name": "stdout"
        }
      ]
    },
    {
      "cell_type": "markdown",
      "metadata": {
        "id": "3GepRZ3DTGso"
      },
      "source": [
        "# MAC0460/MAC5832 (2021)\n",
        "\n",
        "\n",
        "## EP1 -- The perceptron algorithm\n",
        "\n",
        "The goal of this EP is to implement the perceptron algorithm. For simplicity, we will implement for and test it on datapoints in $\\mathbb{R}^2$. \n",
        "\n",
        "The datapoints are assumed to be stored in a numpy array.\n",
        "This is also an opportunity to start getting used to Python and Numpy, for those that are not used yet.\n",
        "\n",
        "<hr>\n",
        "\n",
        "Let $X = \\Big\\{ (\\mathbf{x}^{(1)},y^{(1)}), (\\mathbf{x}^{(2)},y^{(2)}), \\ldots, (\\mathbf{x}^{(N)},y^{(N)})\\Big\\}$, $\\mathbf{x}^{(i)} \\in \\mathbb{R}^d$ and $y^{(i)} \\in \\{-1, +1\\}$, $i=1,2,\\ldots,N$, be a set of training examples. We will assume they are linearly separable (meaning that there is a hyperplane that separates positive from negative examples).\n",
        "\n",
        "Given $\\mathbf{x} = (x_1, \\ldots, x_d)  \\in \\mathbb{R}^d$, let $\\tilde{\\mathbf{x}} = (1, x_1, \\ldots, x_d) \\in \\mathbb{R}^{1+d}$.\n",
        "\n",
        "The perceptron algorithm determines a weight vector $\\mathbf{w} \\in \\mathbb{R}^{1+d}$ such that $\\mathrm{sign}(\\mathbf{w}^T \\tilde{\\mathbf{x}}^{(i)}) = y^{(i)}$, $\\forall i$, where\n",
        "\n",
        "$$\n",
        "sign(z) = \\left\\{\\begin{array}{ll}+1, & \\mbox{if $z \\geq 0$,}\\\\ -1, & \\mbox{if $z < 0$.}\\\\\n",
        "\\end{array}\\right.\n",
        "$$\n",
        "\n",
        "\n"
      ]
    },
    {
      "cell_type": "markdown",
      "metadata": {
        "id": "ryaPMsaWTGst"
      },
      "source": [
        "## Creating a training set \n",
        "\n",
        "- Our dataset will consist of $N$ points. Let us choose some points in the $[-1,2]\\times [-1,2] \\subseteq \\mathbb{R}^2$ region.\n",
        "- Let us fix a function $f(x_1,x_2) = w_0 + w_1\\,x_1 + w_2\\,x_2$, such that its zero points form a line that partitions the $[-1,2]\\times [-1,2]$ square into two regions; consider $w_2 \\neq 0$\n",
        "- We define the points $(x_1,x_2)$ such that $f(x_1,x_2) \\geq 0$ as the positive examples and those such that $f(x_1,x_2) < 0$ as the negative ones (that is, the class label of a point is determined by the signal of $f$ at that point).\n",
        "- Let us also plot a graph of the examples (<font color=\"blue\">positives</font> in blue and   <font color=\"red\">negatives</font> in red) and also of the decision surface."
      ]
    },
    {
      "cell_type": "code",
      "metadata": {
        "colab": {
          "base_uri": "https://localhost:8080/",
          "height": 565
        },
        "id": "oMk6TW1BTGsw",
        "outputId": "cc681bdb-b783-4144-e84f-60fbf24b7d2f"
      },
      "source": [
        "import numpy as np\n",
        "import matplotlib.pyplot as plt\n",
        "%matplotlib inline\n",
        "\n",
        "# Create a numpy array with N points\n",
        "xmin = ymin = -1\n",
        "xmax =ymax = 2\n",
        "\n",
        "X = np.asarray([[1.3, -0.2],[0,0],[0,1],[1,0],[1,1]])\n",
        "print(\"Shape of array X: \", X.shape)\n",
        "N = X.shape[0]\n",
        "print(\"Number of examples: \", N)\n",
        "\n",
        "# add a left column with 1's into X -- X extended,\n",
        "# that way Xi has the same number of elements of the weight array\n",
        "def add_column_of_ones(X):\n",
        "    return np.hstack(( np.ones((X.shape[0],1)), X ) )\n",
        "Xe = add_column_of_ones(X)\n",
        "print(\"Shape of array Xe: \", Xe.shape)\n",
        "\n",
        "# define a target weight vector\n",
        "w_target = np.asarray([[0.5],[-1], [1]])\n",
        "print(\"Shape of array w_target: \", w_target.shape)\n",
        "print(\"Target weight array: \\n\", w_target)\n",
        "\n",
        "# define y (class) values, based on the line defined by the target weight vector\n",
        "y = np.sign(np.dot(Xe, w_target))\n",
        "print(\"Shape of array y: \", y.shape)\n",
        "\n",
        "\n",
        "# Plotting ...\n",
        "\n",
        "# plot the line\n",
        "a = -w_target[1] / w_target[2] # slope  -- we will have trouble if w_target[2]=0 ...\n",
        "b = -w_target[0] / w_target[2] # intercept\n",
        "x_l = np.linspace(xmin, xmax, 50)\n",
        "y_l = a*x_l + b\n",
        "\n",
        "plt.figure(figsize=(6,6))\n",
        "plt.plot(x_l, y_l);\n",
        "axes = plt.gca()\n",
        "axes.set_xlim([xmin,xmax])\n",
        "axes.set_ylim([xmin,ymax])\n",
        "\n",
        "# Determine the colors of each of the examples\n",
        "colors = [\"blue\" if y[i]==1 else \"red\" for i in range(N)]\n",
        "print(\"color: \", colors)\n",
        "\n",
        "# plot the examples\n",
        "plt.scatter(X[:,0],X[:,1],c=colors)\n",
        "\n"
      ],
      "execution_count": 3,
      "outputs": [
        {
          "output_type": "stream",
          "text": [
            "Shape of array X:  (5, 2)\n",
            "Number of examples:  5\n",
            "Shape of array Xe:  (5, 3)\n",
            "Shape of array w_target:  (3, 1)\n",
            "Target weight array: \n",
            " [[ 0.5]\n",
            " [-1. ]\n",
            " [ 1. ]]\n",
            "Shape of array y:  (5, 1)\n",
            "color:  ['red', 'blue', 'blue', 'red', 'blue']\n"
          ],
          "name": "stdout"
        },
        {
          "output_type": "execute_result",
          "data": {
            "text/plain": [
              "<matplotlib.collections.PathCollection at 0x7f4532090b50>"
            ]
          },
          "metadata": {
            "tags": []
          },
          "execution_count": 3
        },
        {
          "output_type": "display_data",
          "data": {
            "image/png": "[encoded data removed]",
            "text/plain": [
              "<Figure size 432x432 with 1 Axes>"
            ]
          },
          "metadata": {
            "tags": [],
            "needs_background": "light"
          }
        }
      ]
    },
    {
      "cell_type": "markdown",
      "metadata": {
        "id": "FLnuawJCTGs0"
      },
      "source": [
        "## Weight initialization\n",
        "\n",
        "Let us start with a weight vector that clearly is not too close to the target weights. This will be our initial hypothesis.\n",
        "\n",
        "To see how our hypothesis is classifying the examples, let us use the following convention.\n",
        "\n",
        "We will use the colors (red or blue) to indicate the target label (ground-truth): <font color=\"blue\">positive</font> and <font color=\"red\">negative</font>\n",
        "\n",
        "To indicate how the current hypothesis is classifying the examples we will use markers as follows:\n",
        "- o : corretly classified by the hypothesis<br>\n",
        "- x : wrongly classified by the hypothesis<br>\n"
      ]
    },
    {
      "cell_type": "code",
      "metadata": {
        "colab": {
          "base_uri": "https://localhost:8080/",
          "height": 390
        },
        "id": "K0t3lHTPTGs2",
        "outputId": "4f89a261-d5cd-42ce-ea4e-a6dc76f04036"
      },
      "source": [
        "\n",
        "def plot_state(Xe,w,xmin=-1,xmax=2,ymin=-1,ymax=2):\n",
        "    # compute yhat - prediction\n",
        "    yhat = np.sign(np.dot(Xe,w))\n",
        "\n",
        "    correct = np.where(y == yhat)[0]\n",
        "    misclassified = np.where(y != yhat)[0]\n",
        "\n",
        "    colors_o = [\"blue\" if y[i]==1 else \"red\" for i in correct]\n",
        "    colors_x = [\"blue\" if y[i]==1 else \"red\" for i in misclassified]\n",
        "\n",
        "    # plotting\n",
        "    a = -w[1] / w[2] # slope\n",
        "    b = -w[0] / w[2] # intercept\n",
        "    x_l = np.linspace(-1, 2, 50)\n",
        "    y_l = a*x_l + b\n",
        "\n",
        "    plt.figure(figsize=(6,6))\n",
        "    plt.plot(x_l, y_l);\n",
        "    axes = plt.gca()\n",
        "    axes.set_xlim([xmin,xmax])\n",
        "    axes.set_ylim([xmin,ymax])\n",
        "    plt.title(\"Weight:   w0=%.2f    w1=%.2f    w2=%.2f\" %(w[0],w[1],w[2]))\n",
        "    plt.scatter(X[correct,0],X[correct,1],c=colors_o, marker='o');\n",
        "    plt.scatter(X[misclassified,0],X[misclassified,1],c=colors_x, marker='x');\n",
        "\n",
        "    \n",
        "# Starting weight vector <---- change as you wish (as long as w0[2] != 0)\n",
        "w0 = np.asarray([[-0.5], [1] , [1]])\n",
        "   \n",
        "plot_state(Xe,w0)\n"
      ],
      "execution_count": 74,
      "outputs": [
        {
          "output_type": "display_data",
          "data": {
            "image/png": "[encoded data removed]",
            "text/plain": [
              "<Figure size 432x432 with 1 Axes>"
            ]
          },
          "metadata": {
            "tags": [],
            "needs_background": "light"
          }
        }
      ]
    },
    {
      "cell_type": "markdown",
      "metadata": {
        "id": "Tnt-e77qTGs7"
      },
      "source": [
        "# Exercise\n",
        "\n",
        "Implement the PERCEPTRON algorithm, following the specification in the next box.\n",
        "\n",
        "Your algorithm should process the examples in a round-robin fashion (i.e., cyclically, from 0 to $N-1$, and then back to 0 and so on).\n",
        "\n",
        "NOTE, however, that you should avoid loops (for, while) that scan arrays, index by index. Use Numpy methods.\n",
        "\n",
        "If parameter <tt>plot=True</tt>, the \"state\" at the beginning of each iteration must be plotted\n",
        "\n",
        "\n",
        "<b>Suggestion:</b> Rather than plotting the state at each iteration, you can write a code that generates an animation that shows the sequence of the states.\n"
      ]
    },
    {
      "cell_type": "code",
      "metadata": {
        "scrolled": false,
        "id": "qB39vXqETGs-",
        "colab": {
          "base_uri": "https://localhost:8080/",
          "height": 475
        },
        "outputId": "b1d2131c-0849-4d24-8a53-862dfff48cf8"
      },
      "source": [
        "from time import sleep\n",
        "\n",
        "def perceptron(Xe,y,w0,plot=False):\n",
        "    \"\"\"\n",
        "    Parameters:\n",
        "       Xe   : ndarray (N,d+1) - it already has the 1's in column 0\n",
        "       y    : ndarray (N,1)\n",
        "       w0   : ndarray (d+1,1) - the initial weight vector\n",
        "       plot : If True, plot the state at the beginning of each iteration\n",
        "       \n",
        "    Returns:\n",
        "       w : ndarray (d+1,1) - the final weight vector\n",
        "    \"\"\"\n",
        "    \n",
        "    # START OF YOUR CODE:\n",
        "\n",
        "    w = w0[:, 0]\n",
        "    n = y.size\n",
        "\n",
        "    i = 0\n",
        "\n",
        "\n",
        "    #index = np.where(np.sign(w.transpose() @ Xe[i, :]) != np.sign(y[i])\n",
        "\n",
        "    # roda até que signal(wx) = y\n",
        "    while (True):\n",
        "      \n",
        "      if (i == 0):\n",
        "        arrumou = True\n",
        "      # verifica se signal(<w, x_i>) != y_i\n",
        "      if (True in (np.sign(w.transpose() @ Xe[i]) != np.sign(y[i]))):\n",
        "        if (plot):\n",
        "          plot_state(Xe, w, -1, 2, -1, 2)\n",
        "        w = w + (y[i] * Xe[i]).transpose()\n",
        "\n",
        "        arrumou = False\n",
        "      \n",
        "      # caso rodou o for inteiro sem nenhum ponto errado: ACABOU!\n",
        "      if (i == n-1 and arrumou):\n",
        "        break;\n",
        "\n",
        "      i = (i+1)%n \n",
        "    \n",
        "    #raise NotImplementedError(\"Function perceptron() is not implemented\")\n",
        "\n",
        "    # END YOUR CODE\n",
        "    \n",
        "    return w\n",
        "\n",
        "\n",
        "# Test your function for w0, X and y as defined above\n",
        "w0 = np.asarray([[-0.5], [1] , [1]]) # <---- you can change it (as long as w0[2] != 0)\n",
        "print(\"Initial weight vector=\\n\", w0)\n",
        "\n",
        "w = perceptron(Xe,y,w0,plot=False)\n",
        "\n",
        "# Print the final weight vector and plot the final graph using the function plot_state.\n",
        "# START OF YOUR CODE:\n",
        "print(\"Vetor w:\", w)\n",
        "plot_state(Xe, w, -1, 2, -1, 2)\n",
        "# END YOUR CODE\n"
      ],
      "execution_count": 78,
      "outputs": [
        {
          "output_type": "stream",
          "text": [
            "Initial weight vector=\n",
            " [[-0.5]\n",
            " [ 1. ]\n",
            " [ 1. ]]\n",
            "Vetor w: [ 0.5 -1.3  2.2]\n"
          ],
          "name": "stdout"
        },
        {
          "output_type": "display_data",
          "data": {
            "image/png": "[encoded data removed]",
            "text/plain": [
              "<Figure size 432x432 with 1 Axes>"
            ]
          },
          "metadata": {
            "tags": [],
            "needs_background": "light"
          }
        }
      ]
    },
    {
      "cell_type": "markdown",
      "metadata": {
        "id": "J6mh43xTTGtC"
      },
      "source": [
        "# What else could be explored\n",
        "\n",
        "Feel free to experiment some modifications in your code (just add new code cells, if that is the case):\n",
        "\n",
        "0. Change the set of examples $X$ or the initial weight vector and run the code\n",
        "1. You could change the code so that the initial weight vector is initialized with ramdom numbers\n",
        "2. You could also generate the set of examples $\\mathbf{x}$ randomly (for instance, points randomly selected from two Gaussian distributions)\n",
        "3. What do you need to change in order to have your code ready for $d>2$ dimensional data ?\n",
        "4. How do you need to change your algorithm in order to have the POCKET version, so that it will work on non-linearly separable data?"
      ]
    }
  ]
}